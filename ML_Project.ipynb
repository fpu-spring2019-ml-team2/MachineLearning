{
 "cells": [
  {
   "cell_type": "code",
   "execution_count": 63,
   "metadata": {},
   "outputs": [],
   "source": [
    "import datetime\n",
    "\n",
    "import pandas as pd\n",
    "import numpy as np\n",
    "import sklearn\n",
    "\n",
    "from sklearn import linear_model\n",
    "from sklearn.neighbors import KNeighborsRegressor\n",
    "from sklearn.model_selection import train_test_split\n",
    "from matplotlib import pyplot as plt"
   ]
  },
  {
   "cell_type": "code",
   "execution_count": 64,
   "metadata": {},
   "outputs": [
    {
     "name": "stdout",
     "output_type": "stream",
     "text": [
      "<class 'pandas.core.frame.DataFrame'>\n",
      "RangeIndex: 3141 entries, 0 to 3140\n",
      "Data columns (total 2 columns):\n",
      "Health_Status     3141 non-null float64\n",
      "Unhealthy_Days    3141 non-null float64\n",
      "dtypes: float64(2)\n",
      "memory usage: 49.2 KB\n"
     ]
    }
   ],
   "source": [
    "#read in\n",
    "names = ['State_FIPS_Code', 'County_FIPS_Code', 'CHSI_County_Name', 'CHSI_State_Name', 'Health_Status', 'Unhealthy_Days']    \n",
    "\n",
    "demographics = pd.read_csv(\"./data/DEMOGRAPHICS.csv\" , usecols=['State_FIPS_Code', 'County_FIPS_Code', 'CHSI_County_Name', 'CHSI_State_Name'])\n",
    "summary = pd.read_csv(\"./data/SUMMARYMEASURESOFHEALTH.csv\", usecols=[ 'Health_Status', 'Unhealthy_Days'])\n",
    "leading = pd.read_csv(\"./data/LEADINGCAUSESOFDEATH.csv\", usecols=['A_Wh_BirthDef','A_Bl_BirthDef', 'A_Ot_BirthDef', 'A_Hi_BirthDef'])\n",
    "measure = pd.read_csv(\"./data/MEASURESOFBIRTHANDDEATH.csv\", usecols=['Premature','Under_18', 'Over_40', 'Infant_Mortality', 'IM_Postneonatal', 'IM_Neonatal'])\n",
    "vunerable  = pd.read_csv(\"./data/VUNERABLEPOPSANDENVHEALTH.csv\", usecols=['Toxic_Chem', 'Carbon_Monoxide_Ind', 'Nitrogen_Dioxide_Ind', 'Sulfur_Dioxide_Ind','Ozone_Ind', 'Particulate_Matter_Ind','Lead_Ind'])\n",
    "risk = pd.read_csv(\"./data/RISKFACTORSANDACCESSTOCARE.csv\", usecols=['Obesity','High_Blood_Pres','Smoker','Diabetes'])\n",
    "\n",
    "summary.info()"
   ]
  },
  {
   "cell_type": "code",
   "execution_count": 65,
   "metadata": {},
   "outputs": [],
   "source": [
    "#merge\n",
    "full = pd.concat([demographics, summary,leading, measure, vunerable,risk], axis=1, join=\"inner\")\n",
    "selected = full.copy()\n",
    "selected.drop('CHSI_County_Name', axis=1, inplace=True)\n",
    "selected.drop('CHSI_State_Name', axis=1, inplace=True)"
   ]
  },
  {
   "cell_type": "code",
   "execution_count": 66,
   "metadata": {},
   "outputs": [
    {
     "name": "stdout",
     "output_type": "stream",
     "text": [
      "<class 'pandas.core.frame.DataFrame'>\n",
      "RangeIndex: 3141 entries, 0 to 3140\n",
      "Data columns (total 25 columns):\n",
      "State_FIPS_Code           3141 non-null int64\n",
      "County_FIPS_Code          3141 non-null int64\n",
      "Health_Status             3141 non-null float64\n",
      "Unhealthy_Days            3141 non-null float64\n",
      "A_Wh_BirthDef             3141 non-null int64\n",
      "A_Bl_BirthDef             3141 non-null int64\n",
      "A_Ot_BirthDef             3141 non-null int64\n",
      "A_Hi_BirthDef             3141 non-null int64\n",
      "Premature                 3141 non-null float64\n",
      "Under_18                  3141 non-null float64\n",
      "Over_40                   3141 non-null float64\n",
      "Infant_Mortality          3141 non-null float64\n",
      "IM_Neonatal               3141 non-null float64\n",
      "IM_Postneonatal           3141 non-null float64\n",
      "Toxic_Chem                3141 non-null int64\n",
      "Carbon_Monoxide_Ind       3141 non-null int64\n",
      "Nitrogen_Dioxide_Ind      3141 non-null int64\n",
      "Sulfur_Dioxide_Ind        3141 non-null int64\n",
      "Ozone_Ind                 3141 non-null int64\n",
      "Particulate_Matter_Ind    3141 non-null int64\n",
      "Lead_Ind                  3141 non-null int64\n",
      "Obesity                   3141 non-null float64\n",
      "High_Blood_Pres           3141 non-null float64\n",
      "Smoker                    3141 non-null float64\n",
      "Diabetes                  3141 non-null float64\n",
      "dtypes: float64(12), int64(13)\n",
      "memory usage: 613.6 KB\n"
     ]
    },
    {
     "data": {
      "text/html": [
       "<div>\n",
       "<style scoped>\n",
       "    .dataframe tbody tr th:only-of-type {\n",
       "        vertical-align: middle;\n",
       "    }\n",
       "\n",
       "    .dataframe tbody tr th {\n",
       "        vertical-align: top;\n",
       "    }\n",
       "\n",
       "    .dataframe thead th {\n",
       "        text-align: right;\n",
       "    }\n",
       "</style>\n",
       "<table border=\"1\" class=\"dataframe\">\n",
       "  <thead>\n",
       "    <tr style=\"text-align: right;\">\n",
       "      <th></th>\n",
       "      <th>State_FIPS_Code</th>\n",
       "      <th>County_FIPS_Code</th>\n",
       "      <th>Health_Status</th>\n",
       "      <th>Unhealthy_Days</th>\n",
       "      <th>A_Wh_BirthDef</th>\n",
       "      <th>A_Bl_BirthDef</th>\n",
       "      <th>A_Ot_BirthDef</th>\n",
       "      <th>A_Hi_BirthDef</th>\n",
       "      <th>Premature</th>\n",
       "      <th>Under_18</th>\n",
       "      <th>...</th>\n",
       "      <th>Carbon_Monoxide_Ind</th>\n",
       "      <th>Nitrogen_Dioxide_Ind</th>\n",
       "      <th>Sulfur_Dioxide_Ind</th>\n",
       "      <th>Ozone_Ind</th>\n",
       "      <th>Particulate_Matter_Ind</th>\n",
       "      <th>Lead_Ind</th>\n",
       "      <th>Obesity</th>\n",
       "      <th>High_Blood_Pres</th>\n",
       "      <th>Smoker</th>\n",
       "      <th>Diabetes</th>\n",
       "    </tr>\n",
       "  </thead>\n",
       "  <tbody>\n",
       "    <tr>\n",
       "      <th>count</th>\n",
       "      <td>3141.000000</td>\n",
       "      <td>3141.000000</td>\n",
       "      <td>3141.000000</td>\n",
       "      <td>3141.000000</td>\n",
       "      <td>3141.000000</td>\n",
       "      <td>3141.000000</td>\n",
       "      <td>3141.000000</td>\n",
       "      <td>3141.000000</td>\n",
       "      <td>3141.000000</td>\n",
       "      <td>3141.000000</td>\n",
       "      <td>...</td>\n",
       "      <td>3141.000000</td>\n",
       "      <td>3141.0</td>\n",
       "      <td>3141.0</td>\n",
       "      <td>3141.000000</td>\n",
       "      <td>3141.000000</td>\n",
       "      <td>3141.000000</td>\n",
       "      <td>3141.000000</td>\n",
       "      <td>3141.000000</td>\n",
       "      <td>3141.000000</td>\n",
       "      <td>3141.000000</td>\n",
       "    </tr>\n",
       "    <tr>\n",
       "      <th>mean</th>\n",
       "      <td>30.304680</td>\n",
       "      <td>103.716651</td>\n",
       "      <td>-221.227889</td>\n",
       "      <td>-187.741897</td>\n",
       "      <td>-771.249602</td>\n",
       "      <td>-1027.079911</td>\n",
       "      <td>-1098.359758</td>\n",
       "      <td>-1058.209806</td>\n",
       "      <td>5.445782</td>\n",
       "      <td>-23.668609</td>\n",
       "      <td>...</td>\n",
       "      <td>1.000318</td>\n",
       "      <td>1.0</td>\n",
       "      <td>1.0</td>\n",
       "      <td>1.066221</td>\n",
       "      <td>1.005412</td>\n",
       "      <td>1.000318</td>\n",
       "      <td>-307.284241</td>\n",
       "      <td>-559.874849</td>\n",
       "      <td>-292.487902</td>\n",
       "      <td>-142.517765</td>\n",
       "    </tr>\n",
       "    <tr>\n",
       "      <th>std</th>\n",
       "      <td>15.134423</td>\n",
       "      <td>107.999484</td>\n",
       "      <td>460.837341</td>\n",
       "      <td>423.142860</td>\n",
       "      <td>520.738729</td>\n",
       "      <td>297.163582</td>\n",
       "      <td>122.352747</td>\n",
       "      <td>240.778913</td>\n",
       "      <td>89.329406</td>\n",
       "      <td>178.062926</td>\n",
       "      <td>...</td>\n",
       "      <td>0.017843</td>\n",
       "      <td>0.0</td>\n",
       "      <td>0.0</td>\n",
       "      <td>0.248708</td>\n",
       "      <td>0.073381</td>\n",
       "      <td>0.017843</td>\n",
       "      <td>516.246132</td>\n",
       "      <td>568.622294</td>\n",
       "      <td>508.390227</td>\n",
       "      <td>381.651636</td>\n",
       "    </tr>\n",
       "    <tr>\n",
       "      <th>min</th>\n",
       "      <td>1.000000</td>\n",
       "      <td>1.000000</td>\n",
       "      <td>-1111.100000</td>\n",
       "      <td>-1111.100000</td>\n",
       "      <td>-2222.000000</td>\n",
       "      <td>-2222.000000</td>\n",
       "      <td>-2222.000000</td>\n",
       "      <td>-2222.000000</td>\n",
       "      <td>-2222.200000</td>\n",
       "      <td>-2222.200000</td>\n",
       "      <td>...</td>\n",
       "      <td>1.000000</td>\n",
       "      <td>1.0</td>\n",
       "      <td>1.0</td>\n",
       "      <td>1.000000</td>\n",
       "      <td>1.000000</td>\n",
       "      <td>1.000000</td>\n",
       "      <td>-1111.100000</td>\n",
       "      <td>-1111.100000</td>\n",
       "      <td>-1111.100000</td>\n",
       "      <td>-1111.100000</td>\n",
       "    </tr>\n",
       "    <tr>\n",
       "      <th>25%</th>\n",
       "      <td>18.000000</td>\n",
       "      <td>35.000000</td>\n",
       "      <td>8.900000</td>\n",
       "      <td>4.500000</td>\n",
       "      <td>-1111.000000</td>\n",
       "      <td>-1111.000000</td>\n",
       "      <td>-1111.000000</td>\n",
       "      <td>-1111.000000</td>\n",
       "      <td>10.200000</td>\n",
       "      <td>2.900000</td>\n",
       "      <td>...</td>\n",
       "      <td>1.000000</td>\n",
       "      <td>1.0</td>\n",
       "      <td>1.0</td>\n",
       "      <td>1.000000</td>\n",
       "      <td>1.000000</td>\n",
       "      <td>1.000000</td>\n",
       "      <td>-1111.100000</td>\n",
       "      <td>-1111.100000</td>\n",
       "      <td>-1111.100000</td>\n",
       "      <td>5.000000</td>\n",
       "    </tr>\n",
       "    <tr>\n",
       "      <th>50%</th>\n",
       "      <td>29.000000</td>\n",
       "      <td>79.000000</td>\n",
       "      <td>14.600000</td>\n",
       "      <td>5.700000</td>\n",
       "      <td>-1111.000000</td>\n",
       "      <td>-1111.000000</td>\n",
       "      <td>-1111.000000</td>\n",
       "      <td>-1111.000000</td>\n",
       "      <td>11.700000</td>\n",
       "      <td>4.300000</td>\n",
       "      <td>...</td>\n",
       "      <td>1.000000</td>\n",
       "      <td>1.0</td>\n",
       "      <td>1.0</td>\n",
       "      <td>1.000000</td>\n",
       "      <td>1.000000</td>\n",
       "      <td>1.000000</td>\n",
       "      <td>21.700000</td>\n",
       "      <td>-1111.100000</td>\n",
       "      <td>20.300000</td>\n",
       "      <td>7.000000</td>\n",
       "    </tr>\n",
       "    <tr>\n",
       "      <th>75%</th>\n",
       "      <td>45.000000</td>\n",
       "      <td>133.000000</td>\n",
       "      <td>19.400000</td>\n",
       "      <td>6.600000</td>\n",
       "      <td>17.000000</td>\n",
       "      <td>-1111.000000</td>\n",
       "      <td>-1111.000000</td>\n",
       "      <td>-1111.000000</td>\n",
       "      <td>13.200000</td>\n",
       "      <td>6.000000</td>\n",
       "      <td>...</td>\n",
       "      <td>1.000000</td>\n",
       "      <td>1.0</td>\n",
       "      <td>1.0</td>\n",
       "      <td>1.000000</td>\n",
       "      <td>1.000000</td>\n",
       "      <td>1.000000</td>\n",
       "      <td>25.800000</td>\n",
       "      <td>26.100000</td>\n",
       "      <td>25.100000</td>\n",
       "      <td>9.100000</td>\n",
       "    </tr>\n",
       "    <tr>\n",
       "      <th>max</th>\n",
       "      <td>56.000000</td>\n",
       "      <td>840.000000</td>\n",
       "      <td>47.700000</td>\n",
       "      <td>12.600000</td>\n",
       "      <td>57.000000</td>\n",
       "      <td>38.000000</td>\n",
       "      <td>47.000000</td>\n",
       "      <td>52.000000</td>\n",
       "      <td>23.500000</td>\n",
       "      <td>14.500000</td>\n",
       "      <td>...</td>\n",
       "      <td>2.000000</td>\n",
       "      <td>1.0</td>\n",
       "      <td>1.0</td>\n",
       "      <td>2.000000</td>\n",
       "      <td>2.000000</td>\n",
       "      <td>2.000000</td>\n",
       "      <td>42.600000</td>\n",
       "      <td>47.100000</td>\n",
       "      <td>46.200000</td>\n",
       "      <td>20.800000</td>\n",
       "    </tr>\n",
       "  </tbody>\n",
       "</table>\n",
       "<p>8 rows × 25 columns</p>\n",
       "</div>"
      ],
      "text/plain": [
       "       State_FIPS_Code  County_FIPS_Code  Health_Status  Unhealthy_Days  \\\n",
       "count      3141.000000       3141.000000    3141.000000     3141.000000   \n",
       "mean         30.304680        103.716651    -221.227889     -187.741897   \n",
       "std          15.134423        107.999484     460.837341      423.142860   \n",
       "min           1.000000          1.000000   -1111.100000    -1111.100000   \n",
       "25%          18.000000         35.000000       8.900000        4.500000   \n",
       "50%          29.000000         79.000000      14.600000        5.700000   \n",
       "75%          45.000000        133.000000      19.400000        6.600000   \n",
       "max          56.000000        840.000000      47.700000       12.600000   \n",
       "\n",
       "       A_Wh_BirthDef  A_Bl_BirthDef  A_Ot_BirthDef  A_Hi_BirthDef  \\\n",
       "count    3141.000000    3141.000000    3141.000000    3141.000000   \n",
       "mean     -771.249602   -1027.079911   -1098.359758   -1058.209806   \n",
       "std       520.738729     297.163582     122.352747     240.778913   \n",
       "min     -2222.000000   -2222.000000   -2222.000000   -2222.000000   \n",
       "25%     -1111.000000   -1111.000000   -1111.000000   -1111.000000   \n",
       "50%     -1111.000000   -1111.000000   -1111.000000   -1111.000000   \n",
       "75%        17.000000   -1111.000000   -1111.000000   -1111.000000   \n",
       "max        57.000000      38.000000      47.000000      52.000000   \n",
       "\n",
       "         Premature     Under_18     ...       Carbon_Monoxide_Ind  \\\n",
       "count  3141.000000  3141.000000     ...               3141.000000   \n",
       "mean      5.445782   -23.668609     ...                  1.000318   \n",
       "std      89.329406   178.062926     ...                  0.017843   \n",
       "min   -2222.200000 -2222.200000     ...                  1.000000   \n",
       "25%      10.200000     2.900000     ...                  1.000000   \n",
       "50%      11.700000     4.300000     ...                  1.000000   \n",
       "75%      13.200000     6.000000     ...                  1.000000   \n",
       "max      23.500000    14.500000     ...                  2.000000   \n",
       "\n",
       "       Nitrogen_Dioxide_Ind  Sulfur_Dioxide_Ind    Ozone_Ind  \\\n",
       "count                3141.0              3141.0  3141.000000   \n",
       "mean                    1.0                 1.0     1.066221   \n",
       "std                     0.0                 0.0     0.248708   \n",
       "min                     1.0                 1.0     1.000000   \n",
       "25%                     1.0                 1.0     1.000000   \n",
       "50%                     1.0                 1.0     1.000000   \n",
       "75%                     1.0                 1.0     1.000000   \n",
       "max                     1.0                 1.0     2.000000   \n",
       "\n",
       "       Particulate_Matter_Ind     Lead_Ind      Obesity  High_Blood_Pres  \\\n",
       "count             3141.000000  3141.000000  3141.000000      3141.000000   \n",
       "mean                 1.005412     1.000318  -307.284241      -559.874849   \n",
       "std                  0.073381     0.017843   516.246132       568.622294   \n",
       "min                  1.000000     1.000000 -1111.100000     -1111.100000   \n",
       "25%                  1.000000     1.000000 -1111.100000     -1111.100000   \n",
       "50%                  1.000000     1.000000    21.700000     -1111.100000   \n",
       "75%                  1.000000     1.000000    25.800000        26.100000   \n",
       "max                  2.000000     2.000000    42.600000        47.100000   \n",
       "\n",
       "            Smoker     Diabetes  \n",
       "count  3141.000000  3141.000000  \n",
       "mean   -292.487902  -142.517765  \n",
       "std     508.390227   381.651636  \n",
       "min   -1111.100000 -1111.100000  \n",
       "25%   -1111.100000     5.000000  \n",
       "50%      20.300000     7.000000  \n",
       "75%      25.100000     9.100000  \n",
       "max      46.200000    20.800000  \n",
       "\n",
       "[8 rows x 25 columns]"
      ]
     },
     "execution_count": 66,
     "metadata": {},
     "output_type": "execute_result"
    }
   ],
   "source": [
    "selected.info()\n",
    "selected.describe()"
   ]
  },
  {
   "cell_type": "code",
   "execution_count": 67,
   "metadata": {},
   "outputs": [
    {
     "name": "stdout",
     "output_type": "stream",
     "text": [
      "(2512, 25)\n",
      "(2512, 1)\n",
      "(629, 25)\n",
      "(629, 1)\n"
     ]
    }
   ],
   "source": [
    "target = pd.DataFrame(selected, columns=[\"A_Wh_BirthDef\"])\n",
    "X_train, X_test, y_train, y_test = train_test_split(selected, target, test_size=0.2)\n",
    "print(X_train.shape) \n",
    "print(y_train.shape)\n",
    "print(X_test.shape)\n",
    "print(y_test.shape)"
   ]
  },
  {
   "cell_type": "code",
   "execution_count": 68,
   "metadata": {},
   "outputs": [
    {
     "name": "stdout",
     "output_type": "stream",
     "text": [
      "(629, 1)\n"
     ]
    }
   ],
   "source": [
    "kn = KNeighborsRegressor(n_neighbors=3)\n",
    "#lm = linear_model.LinearRegression()\n",
    "model = kn.fit(X_train, y_train)\n",
    "predictions = kn.predict(X_test)\n",
    "print(predictions.shape)"
   ]
  },
  {
   "cell_type": "code",
   "execution_count": 69,
   "metadata": {},
   "outputs": [
    {
     "data": {
      "text/plain": [
       "Text(0, 0.5, 'Predictions')"
      ]
     },
     "execution_count": 69,
     "metadata": {},
     "output_type": "execute_result"
    },
    {
     "data": {
      "image/png": "[encoded data removed]",
      "text/plain": [
       "<Figure size 432x288 with 1 Axes>"
      ]
     },
     "metadata": {
      "needs_background": "light"
     },
     "output_type": "display_data"
    }
   ],
   "source": [
    "plt.scatter(y_test, predictions)\n",
    "plt.xlabel('TrueValues')\n",
    "plt.ylabel('Predictions')"
   ]
  },
  {
   "cell_type": "code",
   "execution_count": 70,
   "metadata": {},
   "outputs": [
    {
     "data": {
      "text/plain": [
       "0.37726033957647753"
      ]
     },
     "execution_count": 70,
     "metadata": {},
     "output_type": "execute_result"
    }
   ],
   "source": [
    "model.score(X_test, y_test)"
   ]
  },
  {
   "cell_type": "code",
   "execution_count": 71,
   "metadata": {},
   "outputs": [
    {
     "name": "stdout",
     "output_type": "stream",
     "text": [
      "(629, 25)\n"
     ]
    }
   ],
   "source": [
    "print(X_test.shape)"
   ]
  },
  {
   "cell_type": "markdown",
   "metadata": {},
   "source": []
  }
 ],
 "metadata": {
  "kernelspec": {
   "display_name": "Python 3",
   "language": "python",
   "name": "python3"
  },
  "language_info": {
   "codemirror_mode": {
    "name": "ipython",
    "version": 3
   },
   "file_extension": ".py",
   "mimetype": "text/x-python",
   "name": "python",
   "nbconvert_exporter": "python",
   "pygments_lexer": "ipython3",
   "version": "3.6.7"
  }
 },
 "nbformat": 4,
 "nbformat_minor": 2
}
